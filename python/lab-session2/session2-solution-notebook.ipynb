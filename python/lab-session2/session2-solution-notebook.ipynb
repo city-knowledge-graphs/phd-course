{
 "cells": [
  {
   "cell_type": "markdown",
   "id": "15715675",
   "metadata": {},
   "source": [
    "### Dependencies"
   ]
  },
  {
   "cell_type": "code",
   "execution_count": 1,
   "id": "15415a09",
   "metadata": {},
   "outputs": [],
   "source": [
    "from rdflib import Graph\n",
    "import owlrl"
   ]
  },
  {
   "cell_type": "markdown",
   "id": "2d3d8db8",
   "metadata": {},
   "source": [
    "### Method to check if a stament holds in the graph"
   ]
  },
  {
   "cell_type": "code",
   "execution_count": 2,
   "id": "73fb1b40",
   "metadata": {},
   "outputs": [],
   "source": [
    "def checkEntailment(g, triple):\n",
    "    \n",
    "    #We use an ASK query instead of a select. It could be done with SELETCT and then checking that the results are not empty \n",
    "    qres = g.query(\n",
    "    \"\"\"ASK {\"\"\" + triple + \"\"\" }\"\"\")\n",
    "\n",
    "    #Single row with one boolean vale: True or False\n",
    "    for row in qres:\n",
    "        print(\"Does '\" + triple + \"' hold? \" + str(row))"
   ]
  },
  {
   "cell_type": "markdown",
   "id": "8a1fc0df",
   "metadata": {},
   "source": [
    "### Reasoning with OWL 2 RL"
   ]
  },
  {
   "cell_type": "code",
   "execution_count": 3,
   "id": "8819eaa0",
   "metadata": {},
   "outputs": [
    {
     "name": "stdout",
     "output_type": "stream",
     "text": [
      "Loaded '27' triples.\n",
      "Rules after inference: '1116' triples.\n",
      "Saving extended graph\n"
     ]
    },
    {
     "data": {
      "text/plain": [
       "<Graph identifier=Nd106db1efef04e44a2cc6bb5248604a7 (<class 'rdflib.graph.Graph'>)>"
      ]
     },
     "execution_count": 3,
     "metadata": {},
     "output_type": "execute_result"
    }
   ],
   "source": [
    "g2 = Graph()\n",
    "    \n",
    "g2.parse(\"data/example-owl2rl.ttl\", format=\"ttl\")\n",
    "    \n",
    "print(\"Loaded '\" + str(len(g2)) + \"' triples.\")\n",
    "    \n",
    "#Performs OWL 2 RL reasoning: expangs graph g2\n",
    "owlrl.DeductiveClosure(owlrl.OWLRL_Semantics, axiomatic_triples=True, datatype_axioms=False).expand(g2)  \n",
    "    \n",
    "print(\"Rules after inference: '\" + str(len(g2)) + \"' triples.\")\n",
    "        \n",
    "print(\"Saving extended graph\")\n",
    "g2.serialize(destination='../student-codes-data/example-owl2rl-extended.ttl', format='ttl')\n",
    "    "
   ]
  },
  {
   "cell_type": "code",
   "execution_count": 4,
   "id": "b3bc44db",
   "metadata": {},
   "outputs": [],
   "source": [
    "### Check if statements hold in g2"
   ]
  },
  {
   "cell_type": "code",
   "execution_count": 5,
   "id": "2cd6d98f",
   "metadata": {},
   "outputs": [
    {
     "name": "stdout",
     "output_type": "stream",
     "text": [
      "Does ':Carl :hasChild :Ann .' hold? True\n",
      "Does ':Ann rdf:type :Child .' hold? False\n",
      "Does ':Juliet :hasChild :Ann .' hold? True\n"
     ]
    }
   ],
   "source": [
    "triple1 = \":Carl :hasChild :Ann .\"\n",
    "triple2 = \":Ann rdf:type :Child .\"\n",
    "triple3 = \":Juliet :hasChild :Ann .\"\n",
    "    \n",
    "checkEntailment(g2, triple1)\n",
    "checkEntailment(g2, triple2)\n",
    "checkEntailment(g2, triple3)"
   ]
  },
  {
   "cell_type": "code",
   "execution_count": null,
   "id": "aa28b88b",
   "metadata": {},
   "outputs": [],
   "source": []
  }
 ],
 "metadata": {
  "kernelspec": {
   "display_name": "Python 3 (ipykernel)",
   "language": "python",
   "name": "python3"
  },
  "language_info": {
   "codemirror_mode": {
    "name": "ipython",
    "version": 3
   },
   "file_extension": ".py",
   "mimetype": "text/x-python",
   "name": "python",
   "nbconvert_exporter": "python",
   "pygments_lexer": "ipython3",
   "version": "3.10.12"
  }
 },
 "nbformat": 4,
 "nbformat_minor": 5
}
